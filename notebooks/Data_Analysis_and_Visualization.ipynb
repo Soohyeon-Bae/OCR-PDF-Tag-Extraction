import pandas as pd
import matplotlib.pyplot as plt

# Load the Excel file (replace 'your_file.xlsx' with the actual file name)
file_path = 'your_file.xlsx'  # Excel file path
df = pd.read_excel(file_path)  # Read the Excel file

# Display the first few rows of the DataFrame to verify the data
print("Data from Excel:")
print(df.head())

# Group by 'Item Class' and count unique 'Tag Number'
item_class_counts = df.groupby('Item Class')['Tag Number'].nunique().reset_index()
item_class_counts.columns = ['Item Class', 'Unique Tag Number Count']

# Display the Item Class counts
print("\nItem Class Counts:")
print(item_class_counts)

# Extract the part before the '-' in 'Item Class'
df['Class Group'] = df['Item Class'].str.split('-').str[0]

# Group by the extracted class group and count unique tag numbers
class_group_counts = df.groupby('Class Group')['Tag Number'].nunique().reset_index()
class_group_counts.columns = ['Class Group', 'Unique Tag Number Count']

# Display the Class Group counts
print("\nClass Group Counts:")
print(class_group_counts)

# Create a bar chart for Class Group Counts
plt.figure(figsize=(12, 6))
plt.bar(class_group_counts['Class Group'], class_group_counts['Unique Tag Number Count'], color='lightcoral')
plt.xticks(rotation=45, ha='right')  # Rotate x-axis labels for better readability
plt.title('Unique Tag Number Count by Class Group')
plt.xlabel('Class Group')
plt.ylabel('Unique Tag Number Count')
plt.tight_layout()
plt.show()
