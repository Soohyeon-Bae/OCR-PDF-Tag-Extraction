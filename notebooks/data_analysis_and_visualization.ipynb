{
  "cells": [
    {
      "cell_type": "markdown",
      "metadata": {},
      "source": [
        "# Item Class and Class Group Analysis\n",
        "In this notebook, we will load data from an Excel file and analyze the unique Tag Numbers for `Item Class` and `Class Group`."
      ]
    },
    {
      "cell_type": "code",
      "execution_count": null,
      "metadata": {},
      "outputs": [],
      "source": [
        "import pandas as pd\n",
        "import matplotlib.pyplot as plt"
      ]
    },
    {
      "cell_type": "markdown",
      "metadata": {},
      "source": [
        "## 1. Load the Excel File\n",
        "We will load the Excel file and check the data."
      ]
    },
    {
      "cell_type": "code",
      "execution_count": null,
      "metadata": {},
      "outputs": [],
      "source": [
        "file_path = 'your_file.xlsx'  # Excel file path\n",
        "df = pd.read_excel(file_path)  # Read the Excel file\n",
        "print(\"Data from Excel:\")\n",
        "print(df.head())"
      ]
    },
    {
      "cell_type": "markdown",
      "metadata": {},
      "source": [
        "## 2. Count Unique Tag Numbers by Item Class\n",
        "We will count the unique Tag Numbers for each `Item Class`."
      ]
    },
    {
      "cell_type": "code",
      "execution_count": null,
      "metadata": {},
      "outputs": [],
      "source": [
        "item_class_counts = df.groupby('Item Class')['Tag Number'].nunique().reset_index()\n",
        "item_class_counts.columns = ['Item Class', 'Unique Tag Number Count']\n",
        "print(\"\\nItem Class Counts:\")\n",
        "print(item_class_counts)"
      ]
    },
    {
      "cell_type": "markdown",
      "metadata": {},
      "source": [
        "## 3. Extract Class Group\n",
        "We will extract the part before the '-' in each `Item Class` to create the `Class Group`."
      ]
    },
    {
      "cell_type": "code",
      "execution_count": null,
      "metadata": {},
      "outputs": [],
      "source": [
        "df['Class Group'] = df['Item Class'].str.split('-').str[0]"
      ]
    },
    {
      "cell_type": "markdown",
      "metadata": {},
      "source": [
        "## 4. Count Unique Tag Numbers by Class Group\n",
        "We will count the unique Tag Numbers for each `Class Group`."
      ]
    },
    {
      "cell_type": "code",
      "execution_count": null,
      "metadata": {},
      "outputs": [],
      "source": [
        "class_group_counts = df.groupby('Class Group')['Tag Number'].nunique().reset_index()\n",
        "class_group_counts.columns = ['Class Group', 'Unique Tag Number Count']\n",
        "print(\"\\nClass Group Counts:\")\n",
        "print(class_group_counts)"
      ]
    },
    {
      "cell_type": "markdown",
      "metadata": {},
      "source": [
        "## 5. Create a Bar Chart for Class Group Counts\n",
        "We will visualize the unique Tag Number counts for each `Class Group`."
      ]
    },
    {
      "cell_type": "code",
      "execution_count": null,
      "metadata": {},
      "outputs": [],
      "source": [
        "plt.figure(figsize=(12, 6))\n",
        "plt.bar(class_group_counts['Class Group'], class_group_counts['Unique Tag Number Count'], color='lightcoral')\n",
        "plt.xticks(rotation=45, ha='right')  # Rotate x-axis labels for better readability\n",
        "plt.title('Unique Tag Number Count by Class Group')\n",
        "plt.xlabel('Class Group')\n",
        "plt.ylabel('Unique Tag Number Count')\n",
        "plt.tight_layout()\n",
        "plt.show()"
      ]
    }
  ],
  "metadata": {
    "kernelspec": {
      "display_name": "Python 3",
      "language": "python",
      "name": "python3"
    },
    "language_info": {
      "codemirror_mode": {
        "name": "ipython",
        "version": 3
      },
      "file_extension": ".py",
      "mimetype": "text/x-python",
      "name": "python",
      "nbconvert_exporter": "python",
      "pygments_lexer": "ipython3",
      "version": "3.8.5"
    }
  },
  "nbformat": 4,
  "nbformat_minor": 4
}
